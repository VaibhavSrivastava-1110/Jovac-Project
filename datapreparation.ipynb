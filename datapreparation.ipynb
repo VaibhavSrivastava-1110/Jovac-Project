{
 "cells": [
  {
   "cell_type": "markdown",
   "id": "70baa36e",
   "metadata": {},
   "source": [
    "### Data Preparation.\n",
    "#### In this notebook we will prepare the data for our search function. <br> The data is been stored in 3 different ```.xlsx``` file.<br>\n",
    "* Game_Name.xlsx\n",
    "* Game_Publisher_Developer\n",
    "* Game_Rating"
   ]
  },
  {
   "cell_type": "code",
   "execution_count": 154,
   "id": "2dfbd483",
   "metadata": {},
   "outputs": [],
   "source": [
    "# Importing the needed modules\n",
    "import pandas as pd\n",
    "from os import getcwd\n",
    "from collections import defaultdict"
   ]
  },
  {
   "cell_type": "markdown",
   "id": "04546f68",
   "metadata": {},
   "source": [
    "### Defining the paths to the Data File"
   ]
  },
  {
   "cell_type": "code",
   "execution_count": 155,
   "id": "4b343ed7",
   "metadata": {},
   "outputs": [],
   "source": [
    "path_names = f\"{getcwd()}/DataSets/Game_Name.xlsx\"\n",
    "path_developer = f\"{getcwd()}/DataSets/Game_Publisher_Developer.xlsx\"\n",
    "path_rating = f\"{getcwd()}/DataSets/Game_Rating.xlsx\""
   ]
  },
  {
   "cell_type": "markdown",
   "id": "46b19851",
   "metadata": {},
   "source": [
    "#### Getting the Data in data frame and converting it to a single directory."
   ]
  },
  {
   "cell_type": "code",
   "execution_count": 156,
   "id": "ea77d676",
   "metadata": {},
   "outputs": [
    {
     "name": "stdout",
     "output_type": "stream",
     "text": [
      "Columns are : ['Game_Id', 'Name', 'Platform', 'Year_of_Release', 'Genre']\n"
     ]
    }
   ],
   "source": [
    "# Game_Name Data\n",
    "df_name = pd.read_excel(r'C:\\Users\\ASUS\\Documents\\Jovac Project\\DataSets\\Game_Name.xlsx')\n",
    "name_table_columns = df_name.columns.tolist()\n",
    "print(f\"Columns are : {name_table_columns}\")"
   ]
  },
  {
   "cell_type": "code",
   "execution_count": 157,
   "id": "8a147182",
   "metadata": {},
   "outputs": [
    {
     "name": "stdout",
     "output_type": "stream",
     "text": [
      "Columns are : ['Game_Id', 'Publisher', 'Developer']\n"
     ]
    }
   ],
   "source": [
    "# Developer Data\n",
    "df_developer = pd.read_excel(r'C:\\Users\\ASUS\\Documents\\Jovac Project\\DataSets\\Game_Publisher_Developer.xlsx')\n",
    "developer_table_columns = df_developer.columns.tolist()\n",
    "print(f\"Columns are : {developer_table_columns}\")"
   ]
  },
  {
   "cell_type": "code",
   "execution_count": 158,
   "id": "7de8354a",
   "metadata": {},
   "outputs": [
    {
     "name": "stdout",
     "output_type": "stream",
     "text": [
      "Columns are : ['Game_Id', 'Critic_Score', 'Critic_Count', 'User_Score', 'User_Count', 'Rating']\n"
     ]
    }
   ],
   "source": [
    "# Rating Data\n",
    "df_rating= pd.read_excel(r'C:\\Users\\ASUS\\Documents\\Jovac Project\\DataSets\\Game_Rating.xlsx')\n",
    "rating_table_columns = df_rating.columns.tolist()\n",
    "print(f\"Columns are : {rating_table_columns}\")"
   ]
  },
  {
   "cell_type": "markdown",
   "id": "60395da5",
   "metadata": {},
   "source": [
    "#### \n",
    "* ```Game_Id``` is common in all three datasets, so it will be used as a primary search-key\n",
    "* A user will always search game by its ```Name``` so we will create a ```Global Secondary Index``` to be able to perform search on out datastore"
   ]
  },
  {
   "cell_type": "code",
   "execution_count": 159,
   "id": "54237f8a",
   "metadata": {},
   "outputs": [],
   "source": [
    "# Sort name dataframe\n",
    "df_name_sorted = df_name.sort_values(by = ['Game_Id'])\n",
    "\n",
    "# Sorting Developer Dataframe \n",
    "df_developer_sorted = df_developer.sort_values(by = ['Game_Id'])\n",
    "\n",
    "# Sorting rating Dataframe\n",
    "df_rating_sorted = df_rating.sort_values(by = ['Game_Id'])\n",
    "\n",
    "# We have sorted each one on the basis of Game_Id as Game_Id is common and unique in all three dataframes."
   ]
  },
  {
   "cell_type": "code",
   "execution_count": 160,
   "id": "1c1639ab",
   "metadata": {},
   "outputs": [],
   "source": [
    "# From name dataframe\n",
    "gameids = df_name_sorted[\"Game_Id\"].tolist()\n",
    "gameName = df_name_sorted[\"Name\"].tolist()\n",
    "gamePlatform = df_name_sorted['Platform'].tolist()\n",
    "gameRealeaseYear = df_name_sorted['Year_of_Release'].tolist()\n",
    "gameGenre = df_name_sorted['Genre'].tolist()\n",
    "\n",
    "# From Developer Dataframe\n",
    "gamePublisher = df_developer_sorted['Publisher'].tolist()\n",
    "gameDeveloper = df_developer_sorted['Developer'].tolist()\n",
    "\n",
    "# From Rating Dataframe\n",
    "gameCriticscore = df_rating_sorted['Critic_Score'].tolist()\n",
    "gameUserscore = df_rating_sorted['User_Score'].tolist()\n",
    "gameRating = df_rating_sorted['Rating'].tolist()"
   ]
  },
  {
   "cell_type": "code",
   "execution_count": 161,
   "id": "66f82fc2",
   "metadata": {},
   "outputs": [],
   "source": [
    "gameDict = {}\n",
    "global_secondaryIndex = {}\n",
    "for idx, Game_Id in enumerate(gameids) : \n",
    "    gameDict[Game_Id] = {\n",
    "        \"Name\" : gameName[idx],\n",
    "        \"Platform\" : gamePlatform[idx],\n",
    "        \"Year Of Release\" : gameRealeaseYear[idx],\n",
    "        \"Genre\" : gameGenre[idx],\n",
    "        \"Publisher\" : gamePublisher[idx],\n",
    "        \"Developer\" : gameDeveloper[idx],\n",
    "        \"Critic Score\" : gameCriticscore[idx],\n",
    "        \"User Score\" : gameUserscore[idx],\n",
    "        \"Rating\" : gameRating[idx]\n",
    "    }\n",
    "    global_secondaryIndex[gameName[idx]] = Game_Id"
   ]
  },
  {
   "cell_type": "markdown",
   "id": "ae267aed",
   "metadata": {},
   "source": [
    "#### Since, now we have created both sencondary index for searching and <br> main dictionary with all the data, we write those data in a ```json``` file : "
   ]
  },
  {
   "cell_type": "code",
   "execution_count": 171,
   "id": "fedf54a9",
   "metadata": {},
   "outputs": [],
   "source": [
    "import yaml"
   ]
  },
  {
   "cell_type": "code",
   "execution_count": 172,
   "id": "bc836d5e",
   "metadata": {},
   "outputs": [
    {
     "name": "stdout",
     "output_type": "stream",
     "text": [
      "[Wait] Writing the Game Data into your Disk...\n",
      "[Wait] Writing the Global Secondary Index Data into your Disk...\n"
     ]
    }
   ],
   "source": [
    "print(\"[Wait] Writing the Game Data into your Disk...\")\n",
    "with open('DataSets/finalData.yaml', 'w') as outfile:\n",
    "    yaml.dump(gameDict, outfile, default_flow_style = True)\n",
    "print(\"[Wait] Writing the Global Secondary Index Data into your Disk...\")\n",
    "with open('DataSets/data.yaml','w') as outfile:\n",
    "    yaml.dump(global_secondaryIndex, outfile, default_flow_style = True)"
   ]
  },
  {
   "cell_type": "markdown",
   "id": "9c8c7154",
   "metadata": {},
   "source": [
    "#### Data Base is ready, run search file"
   ]
  }
 ],
 "metadata": {
  "kernelspec": {
   "display_name": "Python 3 (ipykernel)",
   "language": "python",
   "name": "python3"
  },
  "language_info": {
   "codemirror_mode": {
    "name": "ipython",
    "version": 3
   },
   "file_extension": ".py",
   "mimetype": "text/x-python",
   "name": "python",
   "nbconvert_exporter": "python",
   "pygments_lexer": "ipython3",
   "version": "3.8.8"
  }
 },
 "nbformat": 4,
 "nbformat_minor": 5
}
