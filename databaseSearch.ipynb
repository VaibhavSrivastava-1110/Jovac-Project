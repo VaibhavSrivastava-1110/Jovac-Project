{
 "cells": [
  {
   "cell_type": "markdown",
   "id": "1787c2c0",
   "metadata": {},
   "source": [
    "### Data Base Search file"
   ]
  },
  {
   "cell_type": "code",
   "execution_count": 2,
   "id": "3af93203",
   "metadata": {},
   "outputs": [],
   "source": [
    "import yaml\n",
    "from stringMatcher import levenshtein_ratio_and_distance\n",
    "from time import time"
   ]
  },
  {
   "cell_type": "markdown",
   "id": "20ca7734",
   "metadata": {},
   "source": [
    "### Load the database into the memory"
   ]
  },
  {
   "cell_type": "code",
   "execution_count": 3,
   "id": "5505926e",
   "metadata": {},
   "outputs": [
    {
     "name": "stderr",
     "output_type": "stream",
     "text": [
      "C:\\Users\\ASUS\\AppData\\Local\\Temp/ipykernel_12992/1746518049.py:1: YAMLLoadWarning: calling yaml.load() without Loader=... is deprecated, as the default Loader is unsafe. Please read https://msg.pyyaml.org/load for full details.\n",
      "  data = yaml.load(open(\"DataSets/finalData.yaml\", \"rb\"))\n"
     ]
    }
   ],
   "source": [
    "data = yaml.load(open(\"DataSets/finalData.yaml\", \"rb\"))"
   ]
  },
  {
   "cell_type": "markdown",
   "id": "bd5d0119",
   "metadata": {},
   "source": [
    "###### Reading the Global Secondary index in the memory"
   ]
  },
  {
   "cell_type": "code",
   "execution_count": 5,
   "id": "4a3a2bed",
   "metadata": {},
   "outputs": [
    {
     "name": "stderr",
     "output_type": "stream",
     "text": [
      "C:\\Users\\ASUS\\AppData\\Local\\Temp/ipykernel_12992/2625719117.py:1: YAMLLoadWarning: calling yaml.load() without Loader=... is deprecated, as the default Loader is unsafe. Please read https://msg.pyyaml.org/load for full details.\n",
      "  GIS = yaml.load(open(\"DataSets/data.yaml\", \"rb\"))\n"
     ]
    }
   ],
   "source": [
    "GIS = yaml.load(open(\"DataSets/data.yaml\", \"rb\"))"
   ]
  },
  {
   "cell_type": "markdown",
   "id": "471d4bee",
   "metadata": {},
   "source": [
    "#### Writing a function to search games by its ```Name```"
   ]
  },
  {
   "cell_type": "code",
   "execution_count": 21,
   "id": "560f01a3",
   "metadata": {},
   "outputs": [],
   "source": [
    "def getClosestMatch(String) :\n",
    "    # Initializing time counter\n",
    "    tic = time()\n",
    "    # Finding closest match to the input string fromthe Global Secondary Index\n",
    "    matchRatio = [levenshtein_ratio_and_distance(String, str(key)) for key, _ in GIS.items()]\n",
    "    bestMatchRatio = max(matchRatio)\n",
    "    # Now we have to see that if the best match ratio is less than 0.5 it means that our dataset might not have good match for the search..\n",
    "    if(bestMatchRatio < 0.5) : \n",
    "        return {\n",
    "            \"response code\" : 404,\n",
    "            \"search time\"   : f\"{time()-tic} seconds\",\n",
    "            \"message\"       : \"error\",\n",
    "            \"response body\" : \"no match found\"\n",
    "        }\n",
    "    # Else if we have a match then...\n",
    "    bestMatchRatio_index = matchRatio.index(bestMatchRatio)\n",
    "    # Now we have to find the Game_Id of the game which is best match of the String..\n",
    "    bestMatch_GameName = list(GIS)[bestMatchRatio_index]\n",
    "    bestMatch_GameId = GIS[bestMatch_GameName]\n",
    "    # Now we will retrieve the details of the Game from the main datastore with the help of the Game Id as it will act as Primary Key\n",
    "    gameInfo = data[bestMatch_GameId]\n",
    "    # Marking the search completion time..\n",
    "    toc = time()\n",
    "    # Adding the Game Name to the response\n",
    "    gameInfo[\"Name\"] = bestMatch_GameName\n",
    "    # Constructing the response Model...\n",
    "    responseModel = {\n",
    "        \"response code\" : 200,\n",
    "        \"search time\" : f\"{toc - tic} seconds\",\n",
    "        \"message\" : \"success\",\n",
    "        \"response body\" : gameInfo\n",
    "    }\n",
    "    return responseModel"
   ]
  },
  {
   "cell_type": "markdown",
   "id": "ad9f8e97",
   "metadata": {},
   "source": [
    "### Writing a function to make a request and vizualize the data returned by the search function and \"Exception Handling\""
   ]
  },
  {
   "cell_type": "code",
   "execution_count": 24,
   "id": "273fe640",
   "metadata": {},
   "outputs": [],
   "source": [
    "def request(gameToSearch = \"\") : \n",
    "    # Name of the game should be a string...\n",
    "    gameToSearch = str(gameToSearch)\n",
    "    # Checking whether the name of the game is valid or not...\n",
    "    if(gameToSearch.replace(\" \", \"\").strip() == \"\") : \n",
    "        return f\"Invalid Movie Name\"\n",
    "    # Making a request to fetch the game info from the dataset...\n",
    "    response = getClosestMatch(String = gameToSearch)\n",
    "    # Checking the response code...\n",
    "    if response[\"response code\"] == 404 : \n",
    "        return f\"ERROR : No records found\"\n",
    "    # If everything is fine, then we print the data...\n",
    "    data_to_print = f\"\\\n",
    "    Name   : {response['response body']['Name']}\\n\\\n",
    "    Developer Name : {response['response body']['Developer']}\\n\\\n",
    "    Publisher Name : {response['response body']['Publisher']}\\n\\\n",
    "    Genre : {response['response body']['Genre']}\\n\\\n",
    "    Critic Score : {response['response body']['Critic Score']}\\n\\\n",
    "    User Score : {response['response body']['User Score']}\\n\\\n",
    "    Rating : {response['response body']['Rating']}\\n\\\n",
    "    Available Platform : {response['response body']['Platform']}\\n\\\n",
    "    Year Of Release : {response['response body']['Year Of Release']}\\n\\\n",
    "    \"\n",
    "    print(data_to_print)"
   ]
  },
  {
   "cell_type": "code",
   "execution_count": 32,
   "id": "c23c5b18",
   "metadata": {
    "scrolled": true
   },
   "outputs": [
    {
     "name": "stdout",
     "output_type": "stream",
     "text": [
      "    Name   : Grand Theft Auto\n",
      "    Developer Name : Digital Eclipse\n",
      "    Publisher Name : Take-Two Interactive\n",
      "    Genre : Action\n",
      "    Critic Score : 68.0\n",
      "    User Score : 7.1\n",
      "    Rating : M\n",
      "    Available Platform : GBA\n",
      "    Year Of Release : 2004.0\n",
      "    \n"
     ]
    }
   ],
   "source": [
    "request(gameToSearch = \"GrandTheftAuto\")"
   ]
  },
  {
   "cell_type": "markdown",
   "id": "62b266eb",
   "metadata": {},
   "source": [
    "#### Thankyou "
   ]
  }
 ],
 "metadata": {
  "kernelspec": {
   "display_name": "Python 3 (ipykernel)",
   "language": "python",
   "name": "python3"
  },
  "language_info": {
   "codemirror_mode": {
    "name": "ipython",
    "version": 3
   },
   "file_extension": ".py",
   "mimetype": "text/x-python",
   "name": "python",
   "nbconvert_exporter": "python",
   "pygments_lexer": "ipython3",
   "version": "3.8.8"
  }
 },
 "nbformat": 4,
 "nbformat_minor": 5
}
